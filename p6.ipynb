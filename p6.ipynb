{
 "cells": [
  {
   "cell_type": "code",
   "execution_count": null,
   "id": "b4830818-477c-4e6f-a6ad-bb633ccd728f",
   "metadata": {},
   "outputs": [],
   "source": [
    "from transformers import pipeline\n",
    "\n",
    "print(\"Loading Sentiment Analysis Model…\")\n",
    "sentiment_analyzer = pipeline(\"sentiment-analysis\")\n",
    "\n",
    "def analyze_sentiment(text):\n",
    "    result = sentiment_analyzer(text)[0]\n",
    "    label = result['label']\n",
    "    score = result['score']\n",
    "    print(f\"\\nInput Text: {text}\")\n",
    "    print(f\"Sentiment: {label} (Confidence: {score:.4f})\\n\")\n",
    "    return result\n",
    "\n",
    "customer_reviews = [\n",
    "    \"The product is amazing! I love it so much.\",\n",
    "    \"I'm very disappointed. The service was terrible.\",\n",
    "    \"It was an average experience, nothing special.\",\n",
    "    \"Absolutely fantastic quality! Highly recommended.\",\n",
    "    \"Not great, but not the worst either.\"\n",
    "]\n",
    "\n",
    "print(\"\\nCustomer Sentiment Analysis Results:\")\n",
    "for review in customer_reviews:\n",
    "    analyze_sentiment(review)"
   ]
  }
 ],
 "metadata": {
  "kernelspec": {
   "display_name": "Python 3 (ipykernel)",
   "language": "python",
   "name": "python3"
  },
  "language_info": {
   "codemirror_mode": {
    "name": "ipython",
    "version": 3
   },
   "file_extension": ".py",
   "mimetype": "text/x-python",
   "name": "python",
   "nbconvert_exporter": "python",
   "pygments_lexer": "ipython3",
   "version": "3.12.7"
  }
 },
 "nbformat": 4,
 "nbformat_minor": 5
}
