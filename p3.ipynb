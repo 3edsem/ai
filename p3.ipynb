{
 "cells": [
  {
   "cell_type": "code",
   "execution_count": null,
   "id": "e1fd7548-7fac-4b44-8c9d-d65b00a995a6",
   "metadata": {},
   "outputs": [],
   "source": [
    "from gensim.models import Word2Vec\n",
    "from gensim.models.word2vec import LineSentence \n",
    "import matplotlib.pyplot as plt\n",
    "from sklearn.manifold import TSNE\n",
    " \n",
    "import numpy as np\n",
    "\n",
    "medical_corpus = [\n",
    "\"The patient was diagnosed with diabetes and hypertension.\", \"MRI scans reveal abnormalities in the brain tissue.\",\n",
    "\"The treatment involves antibiotics and regular monitoring.\", \"Symptoms include fever, fatigue, and muscle pain.\",\n",
    "\"The vaccine is effective against several viral infections.\", \"Doctors recommend physical therapy for recovery.\", \"The clinical trial results were published in the journal.\",\n",
    "\"The surgeon performed a minimally invasive procedure.\",\n",
    "\"The prescription includes pain relievers and anti-inflammatory drugs.\", \"The diagnosis confirmed a rare genetic disorder.\"\n",
    "]\n",
    "processed_corpus = [sentence.lower().split() for sentence in medical_corpus]\n",
    "print(\"Training Word2Vec model...\")\n",
    "model = Word2Vec(sentences=processed_corpus, vector_size=100, window=5, min_count=1, workers=4, epochs=50)\n",
    "print(\"Model training complete!\")\n",
    "words = list(model.wv.index_to_key)\n",
    "embeddings = np.array([model.wv[word] for word in words])\n",
    "tsne = TSNE(n_components=2, random_state=42, perplexity=5, n_iter=300) \n",
    "tsne_result = tsne.fit_transform(embeddings)\n",
    "plt.figure(figsize=(10, 8))\n",
    "plt.scatter(tsne_result[:, 0], tsne_result[:, 1], color=\"blue\") \n",
    "for i, word in enumerate(words):\n",
    "    plt.text(tsne_result[i, 0] + 0.02, tsne_result[i, 1] + 0.02, word, fontsize=12) \n",
    "plt.title(\"Word Embeddings Visualization (Medical Domain)\") \n",
    "plt.xlabel(\"Dimension 1\")\n",
    "plt.ylabel(\"Dimension 2\") \n",
    "plt.grid(True)\n",
    "plt.show()\n",
    "\n",
    "def find_similar_words(input_word, top_n=5): \n",
    "    try:\n",
    "        similar_words = model.wv.most_similar(input_word, topn=top_n) \n",
    "        print(f\"Words similar to '{input_word}':\")\n",
    "        for word, similarity in similar_words: \n",
    "            print(f\" {word} ({similarity:.2f})\")\n",
    "    except KeyError:\n",
    "        print(f\"'{input_word}' not found in vocabulary.\")\n",
    "find_similar_words(\"treatment\") \n",
    "find_similar_words(\"vaccine\")"
   ]
  }
 ],
 "metadata": {
  "kernelspec": {
   "display_name": "Python 3 (ipykernel)",
   "language": "python",
   "name": "python3"
  },
  "language_info": {
   "codemirror_mode": {
    "name": "ipython",
    "version": 3
   },
   "file_extension": ".py",
   "mimetype": "text/x-python",
   "name": "python",
   "nbconvert_exporter": "python",
   "pygments_lexer": "ipython3",
   "version": "3.12.7"
  }
 },
 "nbformat": 4,
 "nbformat_minor": 5
}
