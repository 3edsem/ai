{
 "cells": [
  {
   "cell_type": "code",
   "execution_count": null,
   "id": "d2370da6-400c-4248-bef8-446df18c4ba6",
   "metadata": {},
   "outputs": [],
   "source": [
    "!pip install transformers\n",
    "from transformers import pipeline\n",
    "print(\"Loading Summarization Model (BART)…\")\n",
    "summarizer = pipeline(\"summarization\", model=\"facebook/bart-large-cnn\")\n",
    "\n",
    "def summarize_text(text, max_length=None, min_length=None):\n",
    "    text = \" \".join(text.split())\n",
    "    if not max_length:\n",
    "        max_length = min(len(text) // 3, 150)\n",
    "    if not min_length:\n",
    "        min_length = max(30, max_length // 3)\n",
    "    summary_1 = summarizer(text, max_length=150, min_length=30, do_sample=False)\n",
    "    summary_2 = summarizer(text, max_length=150, min_length=30, do_sample=True, temperature=0.9)\n",
    "    summary_3 = summarizer(text, max_length=150, min_length=30, do_sample=False, num_beams=5)\n",
    "    summary_4 = summarizer(text, max_length=150, min_length=30, do_sample=True, top_k=50, top_p=0.95)\n",
    "    print(\"\\nOriginal Text:\")\n",
    "    print(text)\n",
    "    print(\"\\nSummarized Text:\")\n",
    "    print(\"Default:\", summary_1[0]['summary_text'])\n",
    "    print(\"High randomness:\", summary_2[0]['summary_text'])\n",
    "    print(\"Conservative:\", summary_3[0]['summary_text'])\n",
    "    print(\"Diverse sampling:\", summary_4[0]['summary_text'])\n",
    "long_text = \"\"\"\n",
    "Artificial Intelligence (AI) is a rapidly evolving field of computer science focused on creating intelligent machines\n",
    "capable of mimicking human cognitive functions such as learning, problem-solving, and decision-making.\n",
    "In recent years, AI has significantly impacted various industries, including healthcare, finance, education, and entertainment.\n",
    "AI-powered applications, such as chatbots, self-driving cars, and recommendation systems, have transformed the way we interact\n",
    "with technology. Machine learning and deep learning, subsets of AI, enable systems to learn from data and improve over time\n",
    "without explicit programming. However, AI also poses ethical challenges, such as bias in decision-making and concerns over\n",
    "job displacement. As AI technology continues to advance, it is crucial to balance innovation with ethical considerations\n",
    "to ensure its responsible development and deployment.\n",
    "\"\"\"\n",
    "summarize_text(long_text)"
   ]
  }
 ],
 "metadata": {
  "kernelspec": {
   "display_name": "Python 3 (ipykernel)",
   "language": "python",
   "name": "python3"
  },
  "language_info": {
   "codemirror_mode": {
    "name": "ipython",
    "version": 3
   },
   "file_extension": ".py",
   "mimetype": "text/x-python",
   "name": "python",
   "nbconvert_exporter": "python",
   "pygments_lexer": "ipython3",
   "version": "3.12.7"
  }
 },
 "nbformat": 4,
 "nbformat_minor": 5
}
