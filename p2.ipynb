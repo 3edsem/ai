{
 "cells": [
  {
   "cell_type": "code",
   "execution_count": null,
   "id": "5c80f9a3-d030-44f8-808b-3194210b2385",
   "metadata": {},
   "outputs": [],
   "source": [
    "import gensim.downloader as api \n",
    "import numpy as np\n",
    "import matplotlib.pyplot as plt\n",
    "from sklearn.decomposition import PCA \n",
    "from sklearn.manifold import TSNE\n",
    " \n",
    "print(\"Loading pre-trained word vectors...\")\n",
    "word_vectors = api.load(\"word2vec-google-news-300\") \n",
    "\n",
    "domain_words = [\"computer\", \"software\", \"hardware\", \"algorithm\", \"data\", \"network\", \"programming\", \"machine\", \"learning\", \"artificial\"]\n",
    "\n",
    "domain_vectors = np.array([word_vectors[word] for word in domain_words])\n",
    "\n",
    "def visualize_word_embeddings(words, vectors, method='pca', perplexity=5):\n",
    "    if method == 'pca':\n",
    "        reducer = PCA(n_components=2) \n",
    "    elif method == 'tsne':\n",
    "        reducer = TSNE(n_components=2, random_state=42, perplexity=perplexity) \n",
    "    else:\n",
    "        raise ValueError(\"Method must be 'pca' or 'tsne'.\")\n",
    "    reduced_vectors = reducer.fit_transform(vectors)\n",
    "    plt.figure(figsize=(10, 8))\n",
    "    for i, word in enumerate(words):\n",
    "      plt.scatter(reduced_vectors[i, 0], reduced_vectors[i, 1], marker='o', color='blue')\n",
    "      plt.text(reduced_vectors[i, 0] + 0.02, reduced_vectors[i, 1] + 0.02, word, fontsize=12)\n",
    "\n",
    "    plt.title(f\"Word Embeddings Visualization using {method.upper()}\") \n",
    "    plt.xlabel(\"Component 1\")\n",
    "    plt.ylabel(\"Component 2\") \n",
    "    plt.grid(True)\n",
    "    plt.show()\n",
    "visualize_word_embeddings(domain_words, domain_vectors, method='pca')\n",
    "visualize_word_embeddings(domain_words, domain_vectors, method='tsne', perplexity=3)\n",
    "def generate_similar_words(word):\n",
    " \n",
    "    try:\n",
    "        similar_words = word_vectors.most_similar(word, topn=5) \n",
    "        print(f\"\\nTop 5 semantically similar words to '{word}':\") \n",
    "        for similar_word, similarity in similar_words:\n",
    "            print(f\"{similar_word}: {similarity:.4f}\") \n",
    "    except KeyError as e:\n",
    "        print(f\"Error: {e} not found in the vocabulary.\")\n",
    "generate_similar_words(\"computer\") \n",
    "generate_similar_words(\"learning\")"
   ]
  }
 ],
 "metadata": {
  "kernelspec": {
   "display_name": "Python 3 (ipykernel)",
   "language": "python",
   "name": "python3"
  },
  "language_info": {
   "codemirror_mode": {
    "name": "ipython",
    "version": 3
   },
   "file_extension": ".py",
   "mimetype": "text/x-python",
   "name": "python",
   "nbconvert_exporter": "python",
   "pygments_lexer": "ipython3",
   "version": "3.12.7"
  }
 },
 "nbformat": 4,
 "nbformat_minor": 5
}
