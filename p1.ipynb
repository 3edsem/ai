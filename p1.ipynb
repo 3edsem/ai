{
 "cells": [
  {
   "cell_type": "code",
   "execution_count": null,
   "id": "680c5fd1-e8ea-4ec3-92a7-3ff026e13a2f",
   "metadata": {},
   "outputs": [],
   "source": [
    "import gensim.downloader as api\n",
    "\n",
    "print(\"Loading pre-trained word vectors...\")\n",
    "word_vectors = api.load(\"word2vec-google-news-300\")\n",
    "\n",
    "def explore_word_relationships(word1, word2, word3):\n",
    "    try:\n",
    "        vec1 = word_vectors[word1]\n",
    "        vec2 = word_vectors[word2]\n",
    "        vec3 = word_vectors[word3]\n",
    "        result_vector = vec1 - vec2 + vec3\n",
    "        similar_words = word_vectors.similar_by_vector(result_vector, topn=10)\n",
    "        input_words = {word1, word2, word3}\n",
    "        filtered_words = [(word, similarity) for word, similarity in similar_words if word not in input_words]\n",
    "        print(f\"\\nWord Relationship: {word1} - {word2} + {word3}\")\n",
    "        print(\"Most similar words to the result (excluding input words):\")\n",
    "        for word, similarity in filtered_words[:5]:\n",
    "            print(f\"{word}: {similarity:.4f}\")\n",
    "    except KeyError as e:\n",
    "        print(f\"Error: {e} not found in the vocabulary.\")\n",
    "\n",
    "def analyze_similarity(word1, word2):\n",
    "    try:\n",
    "        similarity = word_vectors.similarity(word1, word2)\n",
    "        print(f\"\\nSimilarity between '{word1}' and '{word2}': {similarity:.4f}\")\n",
    "    except KeyError as e:\n",
    "        print(f\"Error: {e} not found in the vocabulary.\")\n",
    "\n",
    "def find_most_similar(word):\n",
    "    try:\n",
    "        similar_words = word_vectors.similar_by_word(word, topn=5)\n",
    "        print(f\"\\nMost similar words to '{word}':\")\n",
    "        for similar_word, similarity in similar_words:\n",
    "            print(f\"{similar_word}: {similarity:.4f}\")\n",
    "    except KeyError as e:\n",
    "        print(f\"Error: {e} not found in the vocabulary.\")\n",
    "\n",
    "explore_word_relationships(\"king\", \"man\", \"woman\")\n",
    "explore_word_relationships(\"paris\", \"france\", \"germany\")\n",
    "explore_word_relationships(\"apple\", \"fruit\", \"carrot\")\n",
    "\n",
    "analyze_similarity(\"cat\", \"dog\")\n",
    "analyze_similarity(\"computer\", \"keyboard\")\n",
    "analyze_similarity(\"music\", \"art\")\n",
    "\n",
    "find_most_similar(\"happy\")\n",
    "find_most_similar(\"sad\")\n",
    "find_most_similar(\"technology\")"
   ]
  }
 ],
 "metadata": {
  "kernelspec": {
   "display_name": "Python 3 (ipykernel)",
   "language": "python",
   "name": "python3"
  },
  "language_info": {
   "codemirror_mode": {
    "name": "ipython",
    "version": 3
   },
   "file_extension": ".py",
   "mimetype": "text/x-python",
   "name": "python",
   "nbconvert_exporter": "python",
   "pygments_lexer": "ipython3",
   "version": "3.12.7"
  }
 },
 "nbformat": 4,
 "nbformat_minor": 5
}
