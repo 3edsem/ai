{
 "cells": [
  {
   "cell_type": "code",
   "execution_count": null,
   "id": "c204297d-f738-42bb-a993-7c88df36319a",
   "metadata": {},
   "outputs": [],
   "source": [
    "import gensim.downloader as api\n",
    "import random\n",
    "import nltk\n",
    "from nltk.tokenize import sent_tokenize\n",
    "nltk.download('punkt')\n",
    "word_vectors = api.load(\"glove-wiki-gigaword-100\")\n",
    "print(\"Word vectors loaded successfully!\")\n",
    "def get_similar_words(seed_word, top_n=5):\n",
    "\n",
    "  try: \n",
    "    similar_words = word_vectors.most_similar(seed_word, topn=top_n)\n",
    "    return [word[0] for word in similar_words] \n",
    "  except KeyError:\n",
    "    print(f\"'{seed_word}' not found in vocabulary. Try another word.\") \n",
    "    return []\n",
    "def generate_sentence(seed_word, similar_words):\n",
    "  sentence_templates = [\n",
    "    f\"The {seed_word} was surrounded by {similar_words[0]} and {similar_words[1]}.\",\n",
    "    f\"People often associate {seed_word} with {similar_words[2]} and {similar_words[3]}.\",\n",
    "    f\"In the land of {seed_word}, {similar_words[4]} was a common sight.\", \n",
    "    f\"A story about {seed_word} would be incomplete without {similar_words[1]} and {similar_words[3]}.\", ]\n",
    "  return random.choice(sentence_templates)\n",
    "def generate_paragraph(seed_word):\n",
    "    \"\"\"Construct a creative paragraph using the seed word and similar words.\"\"\"\n",
    "    similar_words = get_similar_words(seed_word, top_n=5)\n",
    "    if not similar_words:\n",
    "        return \"Could not generate a paragraph. Try another seed word.\"\n",
    "    paragraph = [generate_sentence(seed_word, similar_words) for _ in range(4)]\n",
    "    return \" \".join(paragraph)\n",
    "\n",
    "seed_word = input(\"Enter a seed word: \")\n",
    "paragraph = generate_paragraph(seed_word)\n",
    "print(\"\\nGenerated Paragraph:\\n\")\n",
    "print(paragraph)"
   ]
  },
  {
   "cell_type": "code",
   "execution_count": null,
   "id": "3bed78ab-4351-4ebc-8acb-592791bda97d",
   "metadata": {},
   "outputs": [],
   "source": []
  }
 ],
 "metadata": {
  "kernelspec": {
   "display_name": "Python 3 (ipykernel)",
   "language": "python",
   "name": "python3"
  },
  "language_info": {
   "codemirror_mode": {
    "name": "ipython",
    "version": 3
   },
   "file_extension": ".py",
   "mimetype": "text/x-python",
   "name": "python",
   "nbconvert_exporter": "python",
   "pygments_lexer": "ipython3",
   "version": "3.12.7"
  }
 },
 "nbformat": 4,
 "nbformat_minor": 5
}
