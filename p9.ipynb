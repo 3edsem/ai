{
 "cells": [
  {
   "cell_type": "code",
   "execution_count": null,
   "id": "74f88637-625f-418a-a6cb-f844b6afd6d8",
   "metadata": {},
   "outputs": [],
   "source": [
    "!pip install wikipedia-api\n",
    "from pydantic import BaseModel\n",
    "import wikipediaapi\n",
    "\n",
    "class InstitutionDetails(BaseModel):\n",
    "    name: str\n",
    "    founder: str\n",
    "    founded: str\n",
    "    branches: str\n",
    "    employees: str\n",
    "    summary: str\n",
    "\n",
    "def extract_info(content, keyword):\n",
    "    for line in content.split('\\n'):\n",
    "        if keyword.lower() in line.lower():\n",
    "            return line.strip()\n",
    "    return \"Not available\"\n",
    "\n",
    "def fetch(institution_name):\n",
    "    user_agent = \"InstitutionInfoFetcher/1.0 (https://example.com; contact@example.com)\"\n",
    "    wiki = wikipediaapi.Wikipedia('en', headers={\"User-Agent\": user_agent})\n",
    "    page = wiki.page(institution_name)\n",
    "\n",
    "    if not page.exists():\n",
    "        raise ValueError(f\"No Wikipedia page found for '{institution_name}'\")\n",
    "\n",
    "    content = page.text\n",
    "    founder = extract_info(content, \"founder\")\n",
    "    founded = extract_info(content, \"founded\") or extract_info(content, \"established\")\n",
    "    branches = extract_info(content, \"branch\")\n",
    "    employees = extract_info(content, \"employee\")\n",
    "    summary = \"\\n\".join(content.split('\\n')[:2])\n",
    "\n",
    "    return InstitutionDetails(\n",
    "        name=institution_name,\n",
    "        founder=founder,\n",
    "        founded=founded,\n",
    "        branches=branches,\n",
    "        employees=employees,\n",
    "        summary=summary\n",
    "    )\n",
    "\n",
    "if __name__ == \"__main__\":\n",
    "    try:\n",
    "        a=input(\"enter the institution name\")\n",
    "        details = fetch(a)\n",
    "        print(\"\\nExtracted Institution Details:\")\n",
    "        print(details.model_dump_json(indent=4))\n",
    "    except Exception as e:\n",
    "        print(f\"Error: {e}\")\n"
   ]
  }
 ],
 "metadata": {
  "kernelspec": {
   "display_name": "Python 3 (ipykernel)",
   "language": "python",
   "name": "python3"
  },
  "language_info": {
   "codemirror_mode": {
    "name": "ipython",
    "version": 3
   },
   "file_extension": ".py",
   "mimetype": "text/x-python",
   "name": "python",
   "nbconvert_exporter": "python",
   "pygments_lexer": "ipython3",
   "version": "3.12.7"
  }
 },
 "nbformat": 4,
 "nbformat_minor": 5
}
